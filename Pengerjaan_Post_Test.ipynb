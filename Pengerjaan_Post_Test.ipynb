{
  "nbformat": 4,
  "nbformat_minor": 0,
  "metadata": {
    "colab": {
      "provenance": [],
      "collapsed_sections": [],
      "authorship_tag": "ABX9TyOrE6xzvu6kSHF1HMR0A14x",
      "include_colab_link": true
    },
    "kernelspec": {
      "name": "python3",
      "display_name": "Python 3"
    },
    "language_info": {
      "name": "python"
    }
  },
  "cells": [
    {
      "cell_type": "markdown",
      "metadata": {
        "id": "view-in-github",
        "colab_type": "text"
      },
      "source": [
        "<a href=\"https://colab.research.google.com/github/brendatitania/MSIB_Batch3/blob/main/Pengerjaan_Post_Test.ipynb\" target=\"_parent\"><img src=\"https://colab.research.google.com/assets/colab-badge.svg\" alt=\"Open In Colab\"/></a>"
      ]
    },
    {
      "cell_type": "markdown",
      "source": [
        "\n",
        "\n",
        "```\n",
        "Bukti Pengerjaan Post Test \n",
        "tangal 23 September 2021\n",
        "```\n",
        "\n"
      ],
      "metadata": {
        "id": "-eamL7HmbB3L"
      }
    },
    {
      "cell_type": "code",
      "execution_count": null,
      "metadata": {
        "colab": {
          "base_uri": "https://localhost:8080/"
        },
        "id": "10oJsn_cO59n",
        "outputId": "d579b3b6-27fd-45f2-f87a-8953fd91900e"
      },
      "outputs": [
        {
          "output_type": "stream",
          "name": "stdout",
          "text": [
            "[[ 5  5]\n",
            " [11 11]]\n"
          ]
        }
      ],
      "source": [
        "import numpy as np\n",
        "x = np.array([[1,2,3], [4,5,6], [7,8,9]])\n",
        "y = np.array([[9,7,8], [3,2,1], [6,5,4]])\n",
        "z = x[:2,1:] + y[1:3,:2]\n",
        "print(z) "
      ]
    },
    {
      "cell_type": "code",
      "source": [
        "x = \"8\"\n",
        "y = 2\n",
        "z = x * y\n",
        "print(z)"
      ],
      "metadata": {
        "colab": {
          "base_uri": "https://localhost:8080/"
        },
        "id": "4jTydKFxU0eW",
        "outputId": "5f9ae250-edc3-4d09-d9d1-92e3b43cb939"
      },
      "execution_count": null,
      "outputs": [
        {
          "output_type": "stream",
          "name": "stdout",
          "text": [
            "88\n"
          ]
        }
      ]
    },
    {
      "cell_type": "code",
      "source": [
        "numbers = [-1,-2,3,4,5,-6,-7,8,-9,-10,0]\n",
        "scores = []\n",
        "for num in numbers:\n",
        "  if not(num<=0) and num%2==0:\n",
        "    scores.append(num)\n",
        "print(scores)"
      ],
      "metadata": {
        "colab": {
          "base_uri": "https://localhost:8080/"
        },
        "id": "-PsL6zWnR4ui",
        "outputId": "f7cc648d-6b6a-4375-ec5d-620bd1304927"
      },
      "execution_count": null,
      "outputs": [
        {
          "output_type": "stream",
          "name": "stdout",
          "text": [
            "[4, 8]\n"
          ]
        }
      ]
    },
    {
      "cell_type": "code",
      "source": [
        "def hitung_nilai(absensi, tugas, ujian):\n",
        "  print(absensi*0.3 + tugas*0.3 + ujian*0.4)\n",
        "nilai_tambahan = 10\n",
        "nilai_akhir = hitung_nilai(80, 80, 80) + nilai_tambahan\n",
        "print(nilai_akhir)"
      ],
      "metadata": {
        "colab": {
          "base_uri": "https://localhost:8080/",
          "height": 235
        },
        "id": "cr1l3nv9S6X7",
        "outputId": "2c6a7bac-bcdb-4591-dba1-13593dcda98c"
      },
      "execution_count": null,
      "outputs": [
        {
          "output_type": "stream",
          "name": "stdout",
          "text": [
            "80.0\n"
          ]
        },
        {
          "output_type": "error",
          "ename": "TypeError",
          "evalue": "ignored",
          "traceback": [
            "\u001b[0;31m---------------------------------------------------------------------------\u001b[0m",
            "\u001b[0;31mTypeError\u001b[0m                                 Traceback (most recent call last)",
            "\u001b[0;32m<ipython-input-15-285d2dcaa795>\u001b[0m in \u001b[0;36m<module>\u001b[0;34m\u001b[0m\n\u001b[1;32m      2\u001b[0m   \u001b[0mprint\u001b[0m\u001b[0;34m(\u001b[0m\u001b[0mabsensi\u001b[0m\u001b[0;34m*\u001b[0m\u001b[0;36m0.3\u001b[0m \u001b[0;34m+\u001b[0m \u001b[0mtugas\u001b[0m\u001b[0;34m*\u001b[0m\u001b[0;36m0.3\u001b[0m \u001b[0;34m+\u001b[0m \u001b[0mujian\u001b[0m\u001b[0;34m*\u001b[0m\u001b[0;36m0.4\u001b[0m\u001b[0;34m)\u001b[0m\u001b[0;34m\u001b[0m\u001b[0;34m\u001b[0m\u001b[0m\n\u001b[1;32m      3\u001b[0m \u001b[0mnilai_tambahan\u001b[0m \u001b[0;34m=\u001b[0m \u001b[0;36m10\u001b[0m\u001b[0;34m\u001b[0m\u001b[0;34m\u001b[0m\u001b[0m\n\u001b[0;32m----> 4\u001b[0;31m \u001b[0mnilai_akhir\u001b[0m \u001b[0;34m=\u001b[0m \u001b[0mhitung_nilai\u001b[0m\u001b[0;34m(\u001b[0m\u001b[0;36m80\u001b[0m\u001b[0;34m,\u001b[0m \u001b[0;36m80\u001b[0m\u001b[0;34m,\u001b[0m \u001b[0;36m80\u001b[0m\u001b[0;34m)\u001b[0m \u001b[0;34m+\u001b[0m \u001b[0mnilai_tambahan\u001b[0m\u001b[0;34m\u001b[0m\u001b[0;34m\u001b[0m\u001b[0m\n\u001b[0m\u001b[1;32m      5\u001b[0m \u001b[0mprint\u001b[0m\u001b[0;34m(\u001b[0m\u001b[0mnilai_akhir\u001b[0m\u001b[0;34m)\u001b[0m\u001b[0;34m\u001b[0m\u001b[0;34m\u001b[0m\u001b[0m\n",
            "\u001b[0;31mTypeError\u001b[0m: unsupported operand type(s) for +: 'NoneType' and 'int'"
          ]
        }
      ]
    },
    {
      "cell_type": "code",
      "source": [
        "temp = [1, 4, 5, 0, 2, 6, 9, 0, 8, 3, 0]\n",
        "x, i = 0, 0\n",
        "while(temp[i] != 0):\n",
        "  x += temp[i]\n",
        "  i += 2\n",
        "print(x)"
      ],
      "metadata": {
        "colab": {
          "base_uri": "https://localhost:8080/"
        },
        "id": "wtm5UqlmP7ce",
        "outputId": "3e7a05c8-c709-4ce6-b411-a861e553cb73"
      },
      "execution_count": null,
      "outputs": [
        {
          "output_type": "stream",
          "name": "stdout",
          "text": [
            "25\n"
          ]
        }
      ]
    },
    {
      "cell_type": "code",
      "source": [
        "k, l, m, n, o = '7', '8', '3', '9', '6'\n",
        "x = l + o\n",
        "y = x + k\n",
        "z = y * int(m)\n",
        "print(float(z))"
      ],
      "metadata": {
        "colab": {
          "base_uri": "https://localhost:8080/"
        },
        "id": "7xn-2_atQ-2x",
        "outputId": "573dea5a-fc50-4819-965a-62a5812f7fb2"
      },
      "execution_count": null,
      "outputs": [
        {
          "output_type": "stream",
          "name": "stdout",
          "text": [
            "867867867.0\n"
          ]
        }
      ]
    }
  ]
}